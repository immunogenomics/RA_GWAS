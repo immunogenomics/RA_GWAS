{
 "cells": [
  {
   "cell_type": "markdown",
   "id": "38a983b3-f0b9-4571-a338-fb0542ba6ece",
   "metadata": {},
   "source": [
    "# Code used to create Figure 6"
   ]
  },
  {
   "cell_type": "code",
   "execution_count": 2,
   "id": "165da5b7-d33d-449e-a604-f5f51730aead",
   "metadata": {},
   "outputs": [],
   "source": [
    "library(data.table)\n",
    "library(ggplot2)\n",
    "library(RColorBrewer)\n",
    "library(ggsci)\n",
    "library(magrittr) \n",
    "library(plyr)"
   ]
  },
  {
   "cell_type": "code",
   "execution_count": null,
   "id": "108fd689-8f91-491f-a897-eb1b1d013e7b",
   "metadata": {},
   "outputs": [],
   "source": []
  },
  {
   "cell_type": "markdown",
   "id": "2ffc9134-071c-44fe-b502-7f497c627ae7",
   "metadata": {},
   "source": [
    "## Best settings for each of six PRS conditions"
   ]
  },
  {
   "cell_type": "code",
   "execution_count": 17,
   "id": "2b3293a4-2e39-4c59-bafb-81b56f9a0975",
   "metadata": {},
   "outputs": [
    {
     "data": {
      "text/html": [
       "<table>\n",
       "<thead><tr><th scope=col>id</th><th scope=col>gwasdata</th><th scope=col>type</th><th scope=col>pth</th><th scope=col>r2</th><th scope=col>Pop</th></tr></thead>\n",
       "<tbody>\n",
       "\t<tr><td>ACR_REF   </td><td>EUR       </td><td>impact    </td><td>1e-01     </td><td>0.09849492</td><td>EUR       </td></tr>\n",
       "\t<tr><td>ACR_REF   </td><td>EUR       </td><td>impact    </td><td>3e-02     </td><td>0.08126775</td><td>EUR       </td></tr>\n",
       "</tbody>\n",
       "</table>\n"
      ],
      "text/latex": [
       "\\begin{tabular}{r|llllll}\n",
       " id & gwasdata & type & pth & r2 & Pop\\\\\n",
       "\\hline\n",
       "\t ACR\\_REF  & EUR        & impact     & 1e-01      & 0.09849492 & EUR       \\\\\n",
       "\t ACR\\_REF  & EUR        & impact     & 3e-02      & 0.08126775 & EUR       \\\\\n",
       "\\end{tabular}\n"
      ],
      "text/markdown": [
       "\n",
       "id | gwasdata | type | pth | r2 | Pop | \n",
       "|---|---|\n",
       "| ACR_REF    | EUR        | impact     | 1e-01      | 0.09849492 | EUR        | \n",
       "| ACR_REF    | EUR        | impact     | 3e-02      | 0.08126775 | EUR        | \n",
       "\n",
       "\n"
      ],
      "text/plain": [
       "  id      gwasdata type   pth   r2         Pop\n",
       "1 ACR_REF EUR      impact 1e-01 0.09849492 EUR\n",
       "2 ACR_REF EUR      impact 3e-02 0.08126775 EUR"
      ]
     },
     "metadata": {},
     "output_type": "display_data"
    }
   ],
   "source": [
    "#load data\n",
    "load(\"../data/PRS_allres_Mar2021.RData\")\n",
    "head(out,n=2)"
   ]
  },
  {
   "cell_type": "code",
   "execution_count": 18,
   "id": "47d7e938-db5b-4995-aba2-e7d4ddbe9407",
   "metadata": {},
   "outputs": [
    {
     "data": {
      "text/html": [
       "<table>\n",
       "<thead><tr><th scope=col>gwas</th><th scope=col>type</th><th scope=col>bestp</th></tr></thead>\n",
       "<tbody>\n",
       "\t<tr><td>Trans   </td><td>impact  </td><td>3e-03   </td></tr>\n",
       "\t<tr><td>Trans   </td><td>noimpact</td><td>1e-03   </td></tr>\n",
       "\t<tr><td>EUR     </td><td>impact  </td><td>3e-03   </td></tr>\n",
       "\t<tr><td>EUR     </td><td>noimpact</td><td>1e-01   </td></tr>\n",
       "\t<tr><td>EAS     </td><td>impact  </td><td>3e-03   </td></tr>\n",
       "\t<tr><td>EAS     </td><td>noimpact</td><td>1e-04   </td></tr>\n",
       "</tbody>\n",
       "</table>\n"
      ],
      "text/latex": [
       "\\begin{tabular}{r|lll}\n",
       " gwas & type & bestp\\\\\n",
       "\\hline\n",
       "\t Trans    & impact   & 3e-03   \\\\\n",
       "\t Trans    & noimpact & 1e-03   \\\\\n",
       "\t EUR      & impact   & 3e-03   \\\\\n",
       "\t EUR      & noimpact & 1e-01   \\\\\n",
       "\t EAS      & impact   & 3e-03   \\\\\n",
       "\t EAS      & noimpact & 1e-04   \\\\\n",
       "\\end{tabular}\n"
      ],
      "text/markdown": [
       "\n",
       "gwas | type | bestp | \n",
       "|---|---|---|---|---|---|\n",
       "| Trans    | impact   | 3e-03    | \n",
       "| Trans    | noimpact | 1e-03    | \n",
       "| EUR      | impact   | 3e-03    | \n",
       "| EUR      | noimpact | 1e-01    | \n",
       "| EAS      | impact   | 3e-03    | \n",
       "| EAS      | noimpact | 1e-04    | \n",
       "\n",
       "\n"
      ],
      "text/plain": [
       "  gwas  type     bestp\n",
       "1 Trans impact   3e-03\n",
       "2 Trans noimpact 1e-03\n",
       "3 EUR   impact   3e-03\n",
       "4 EUR   noimpact 1e-01\n",
       "5 EAS   impact   3e-03\n",
       "6 EAS   noimpact 1e-04"
      ]
     },
     "metadata": {},
     "output_type": "display_data"
    }
   ],
   "source": [
    "#identify best p value for each condition\n",
    "res <- data.frame()\n",
    "\n",
    "gwas=\"Trans\"\n",
    "type=\"impact\"\n",
    "d1 <- subset(out,gwasdata==\"Trans\" & type==\"impact\")\n",
    "d1 <- d1[,c(\"pth\",\"r2\")]\n",
    "d1 <- ddply(d1, c(\"pth\"), colwise(mean))\n",
    "d1 <- d1[order(-d1$r2),]\n",
    "bestp <- as.character(d1[1,\"pth\"])\n",
    "dump <- data.frame(gwas,type,bestp)\n",
    "res <- rbind(res,dump)\n",
    "\n",
    "gwas=\"Trans\"\n",
    "type=\"noimpact\"\n",
    "d1 <- subset(out,gwasdata==\"Trans\" & type==\"noimpact\")\n",
    "d1 <- d1[,c(\"pth\",\"r2\")]\n",
    "d1 <- ddply(d1, c(\"pth\"), colwise(mean))\n",
    "d1 <- d1[order(-d1$r2),]\n",
    "bestp <- as.character(d1[1,\"pth\"])\n",
    "dump <- data.frame(gwas,type,bestp)\n",
    "res <- rbind(res,dump)\n",
    "\n",
    "gwas=\"EUR\"\n",
    "type=\"impact\"\n",
    "d1 <- subset(out,gwasdata==\"EUR\" & type==\"impact\")\n",
    "d1 <- d1[,c(\"pth\",\"r2\")]\n",
    "d1 <- ddply(d1, c(\"pth\"), colwise(mean))\n",
    "d1 <- d1[order(-d1$r2),]\n",
    "bestp <- as.character(d1[1,\"pth\"])\n",
    "dump <- data.frame(gwas,type,bestp)\n",
    "res <- rbind(res,dump)\n",
    "\n",
    "gwas=\"EUR\"\n",
    "type=\"noimpact\"\n",
    "d1 <- subset(out,gwasdata==\"EUR\" & type==\"noimpact\")\n",
    "d1 <- d1[,c(\"pth\",\"r2\")]\n",
    "d1 <- ddply(d1, c(\"pth\"), colwise(mean))\n",
    "d1 <- d1[order(-d1$r2),]\n",
    "bestp <- as.character(d1[1,\"pth\"])\n",
    "dump <- data.frame(gwas,type,bestp)\n",
    "res <- rbind(res,dump)\n",
    "\n",
    "gwas=\"EAS\"\n",
    "type=\"impact\"\n",
    "d1 <- subset(out,gwasdata==\"EAS\" & type==\"impact\")\n",
    "d1 <- d1[,c(\"pth\",\"r2\")]\n",
    "d1 <- ddply(d1, c(\"pth\"), colwise(mean))\n",
    "d1 <- d1[order(-d1$r2),]\n",
    "bestp <- as.character(d1[1,\"pth\"])\n",
    "dump <- data.frame(gwas,type,bestp)\n",
    "res <- rbind(res,dump)\n",
    "\n",
    "gwas=\"EAS\"\n",
    "type=\"noimpact\"\n",
    "d1 <- subset(out,gwasdata==\"EAS\" & type==\"noimpact\")\n",
    "d1 <- d1[,c(\"pth\",\"r2\")]\n",
    "d1 <- ddply(d1, c(\"pth\"), colwise(mean))\n",
    "d1 <- d1[order(-d1$r2),]\n",
    "bestp <- as.character(d1[1,\"pth\"])\n",
    "dump <- data.frame(gwas,type,bestp)\n",
    "res <- rbind(res,dump)\n",
    "\n",
    "bestpcond <- res\n",
    "bestpcond"
   ]
  },
  {
   "cell_type": "markdown",
   "id": "584b8c42-819e-46ec-bf63-3e4a090d5f52",
   "metadata": {},
   "source": [
    "## Improvement ratio (Figure 6b)"
   ]
  },
  {
   "cell_type": "code",
   "execution_count": 19,
   "id": "332c1215-6bc3-46a1-979f-120feacf3fe2",
   "metadata": {},
   "outputs": [
    {
     "data": {
      "text/html": [
       "TRUE"
      ],
      "text/latex": [
       "TRUE"
      ],
      "text/markdown": [
       "TRUE"
      ],
      "text/plain": [
       "[1] TRUE"
      ]
     },
     "metadata": {},
     "output_type": "display_data"
    },
    {
     "data": {
      "text/html": [
       "TRUE"
      ],
      "text/latex": [
       "TRUE"
      ],
      "text/markdown": [
       "TRUE"
      ],
      "text/plain": [
       "[1] TRUE"
      ]
     },
     "metadata": {},
     "output_type": "display_data"
    },
    {
     "data": {
      "text/html": [
       "TRUE"
      ],
      "text/latex": [
       "TRUE"
      ],
      "text/markdown": [
       "TRUE"
      ],
      "text/plain": [
       "[1] TRUE"
      ]
     },
     "metadata": {},
     "output_type": "display_data"
    },
    {
     "data": {
      "text/html": [
       "TRUE"
      ],
      "text/latex": [
       "TRUE"
      ],
      "text/markdown": [
       "TRUE"
      ],
      "text/plain": [
       "[1] TRUE"
      ]
     },
     "metadata": {},
     "output_type": "display_data"
    },
    {
     "data": {
      "text/html": [
       "TRUE"
      ],
      "text/latex": [
       "TRUE"
      ],
      "text/markdown": [
       "TRUE"
      ],
      "text/plain": [
       "[1] TRUE"
      ]
     },
     "metadata": {},
     "output_type": "display_data"
    },
    {
     "data": {
      "text/html": [
       "111"
      ],
      "text/latex": [
       "111"
      ],
      "text/markdown": [
       "111"
      ],
      "text/plain": [
       "[1] 111"
      ]
     },
     "metadata": {},
     "output_type": "display_data"
    },
    {
     "data": {
      "text/plain": [
       "\n",
       " Same  Diff Trans \n",
       "   33    41    37 "
      ]
     },
     "metadata": {},
     "output_type": "display_data"
    },
    {
     "data": {},
     "metadata": {},
     "output_type": "display_data"
    },
    {
     "data": {
      "image/png": "[encoded data removed]",
      "text/plain": [
       "plot without title"
      ]
     },
     "metadata": {},
     "output_type": "display_data",
     "source": "R display func"
    }
   ],
   "source": [
    "load(\"../data/PRS_allres_Mar2021.RData\")\n",
    " #head(out,n=2)\n",
    "\n",
    "res <- data.frame()\n",
    "\n",
    "#EAS to EAS (same-ancestry)\n",
    "df <- subset(out,gwasdata==\"EAS\" & Pop==\"EAS\")\n",
    "df2 <- data.frame()\n",
    "for(x in c(\"Trans\",\"EUR\",\"EAS\")){\n",
    "for(y in c(\"impact\",\"noimpact\")){\n",
    "    bestp <- as.character(subset(bestpcond, gwas==x & type==y)$bestp)\n",
    "    z <- subset(df,gwasdata==x  & type==y & pth==bestp)\n",
    "    df2 <- rbind(df2,z)\n",
    "}  \n",
    "}\n",
    "df2 <- df2[order(df2$id),]\n",
    "d1 <- subset(df2,type==\"impact\")\n",
    "d2 <- subset(df2,type==\"noimpact\")\n",
    "identical(d1$id,d2$id)\n",
    "dump <- data.frame(data=\"Same\",rate=d1$r2/d2$r2,id=d2$id)\n",
    "res <- rbind(res,dump)\n",
    "\n",
    "#EUR to EUR (same-ancestry)\n",
    "df <- subset(out,gwasdata==\"EUR\" & Pop==\"EUR\")\n",
    "df2 <- data.frame()\n",
    "for(x in c(\"Trans\",\"EUR\",\"EAS\")){\n",
    "for(y in c(\"impact\",\"noimpact\")){\n",
    "    bestp <- as.character(subset(bestpcond, gwas==x & type==y)$bestp)\n",
    "    z <- subset(df,gwasdata==x  & type==y & pth==bestp)\n",
    "    df2 <- rbind(df2,z)\n",
    "}  \n",
    "}\n",
    "df2 <- df2[order(df2$id),]\n",
    "d1 <- subset(df2,type==\"impact\")\n",
    "d2 <- subset(df2,type==\"noimpact\")\n",
    "identical(d1$id,d2$id)\n",
    "dump <- data.frame(data=\"Same\",rate=d1$r2/d2$r2,id=d2$id)\n",
    "res <- rbind(res,dump)\n",
    "\n",
    "#EAS to Others (diff-ancestry)\n",
    "df <- subset(out,gwasdata==\"EAS\" & Pop!=\"EAS\")\n",
    "df2 <- data.frame()\n",
    "for(x in c(\"Trans\",\"EUR\",\"EAS\")){\n",
    "for(y in c(\"impact\",\"noimpact\")){\n",
    "    bestp <- as.character(subset(bestpcond, gwas==x & type==y)$bestp)\n",
    "    z <- subset(df,gwasdata==x  & type==y & pth==bestp)\n",
    "    df2 <- rbind(df2,z)\n",
    "}  \n",
    "}\n",
    "df2 <- df2[order(df2$id),]\n",
    "d1 <- subset(df2,type==\"impact\")\n",
    "d2 <- subset(df2,type==\"noimpact\")\n",
    "identical(d1$id,d2$id)\n",
    "dump <- data.frame(data=\"Diff\",rate=d1$r2/d2$r2,id=d2$id)\n",
    "res <- rbind(res,dump)\n",
    "\n",
    "#EUR to Others (diff-ancestry)\n",
    "df <- subset(out,gwasdata==\"EUR\" & Pop!=\"EUR\")\n",
    "df2 <- data.frame()\n",
    "for(x in c(\"Trans\",\"EUR\",\"EAS\")){\n",
    "for(y in c(\"impact\",\"noimpact\")){\n",
    "    bestp <- as.character(subset(bestpcond, gwas==x & type==y)$bestp)\n",
    "    z <- subset(df,gwasdata==x  & type==y & pth==bestp)\n",
    "    df2 <- rbind(df2,z)\n",
    "}  \n",
    "}\n",
    "df2 <- df2[order(df2$id),]\n",
    "d1 <- subset(df2,type==\"impact\")\n",
    "d2 <- subset(df2,type==\"noimpact\")\n",
    "identical(d1$id,d2$id)\n",
    "dump <- data.frame(data=\"Diff\",rate=d1$r2/d2$r2,id=d2$id)\n",
    "res <- rbind(res,dump)\n",
    "\n",
    "#Trans (all)\n",
    "df <- subset(out, gwasdata==\"Trans\")\n",
    "df2 <- data.frame()\n",
    "for(x in c(\"Trans\",\"EUR\",\"EAS\")){\n",
    "for(y in c(\"impact\",\"noimpact\")){\n",
    "    bestp <- as.character(subset(bestpcond, gwas==x & type==y)$bestp)\n",
    "    z <- subset(df,gwasdata==x  & type==y & pth==bestp)\n",
    "    df2 <- rbind(df2,z)\n",
    "}  \n",
    "}\n",
    "df2 <- df2[order(df2$id),]\n",
    "d1 <- subset(df2,type==\"impact\")\n",
    "d2 <- subset(df2,type==\"noimpact\")\n",
    "identical(d1$id,d2$id)\n",
    "dump <- data.frame(data=\"Trans\",rate=d1$r2/d2$r2,id=d2$id)\n",
    "res <- rbind(res,dump)\n",
    "\n",
    "df <- res\n",
    "nrow(df)\n",
    "table(df$data)\n",
    "\n",
    "df$data <- factor(df$data,levels=c(\"Same\",\"Diff\",\"Trans\"))\n",
    "\n",
    "options(repr.plot.width=5, repr.plot.height=5)\n",
    "\n",
    "df  %>% ggplot(aes( x = data, y= log2(rate), fill=data )) +\n",
    "  geom_boxplot(outlier.shape = NA) +\n",
    "  geom_jitter(width=0.25,size=0.5) +\n",
    "    #geom_line() +\n",
    "  theme_bw() +\n",
    "  #scale_y_continuous(limits=c(0, NA)) +\n",
    "  geom_hline(yintercept = 0, linetype=\"dashed\") +\n",
    "  #scale_fill_jama(name=\"\") +\n",
    "  scale_fill_manual(values=c(\"#FC95EDFF\",\"#C80B96FF\",pal_nejm()(3)[3])) +\n",
    "  labs(x=\"\", y=\"log2(improvement ratio)\", title=\"all data\") +\n",
    "  theme( axis.line = element_line(colour = \"black\"), axis.text=element_text(colour=\"black\") ) +\n",
    "  theme( panel.grid.major = element_blank(), panel.grid.minor = element_blank() ) +\n",
    "  theme( panel.border = element_blank(), panel.background = element_blank() ) +\n",
    "  theme(plot.title = element_text(hjust = 0.5)) +\n",
    "  theme( axis.text.x=element_text(colour=\"black\",size=12)) +\n",
    "  theme( axis.text.y=element_text(colour=\"black\",size=12)) +\n",
    "  theme(legend.position = \"none\") "
   ]
  },
  {
   "cell_type": "code",
   "execution_count": 20,
   "id": "0404a92b-8b1f-4964-8d2e-9defa11bac18",
   "metadata": {},
   "outputs": [
    {
     "data": {
      "text/plain": [
       "   Min. 1st Qu.  Median    Mean 3rd Qu.    Max. \n",
       " 0.4502  0.9359  1.2423  1.3046  1.7189  2.6383 "
      ]
     },
     "metadata": {},
     "output_type": "display_data"
    },
    {
     "data": {
      "text/html": [
       "21"
      ],
      "text/latex": [
       "21"
      ],
      "text/markdown": [
       "21"
      ],
      "text/plain": [
       "[1] 21"
      ]
     },
     "metadata": {},
     "output_type": "display_data"
    },
    {
     "data": {
      "text/html": [
       "33"
      ],
      "text/latex": [
       "33"
      ],
      "text/markdown": [
       "33"
      ],
      "text/plain": [
       "[1] 33"
      ]
     },
     "metadata": {},
     "output_type": "display_data"
    },
    {
     "data": {
      "text/html": [
       "0.0813778287265449"
      ],
      "text/latex": [
       "0.0813778287265449"
      ],
      "text/markdown": [
       "0.0813778287265449"
      ],
      "text/plain": [
       "[1] 0.08137783"
      ]
     },
     "metadata": {},
     "output_type": "display_data"
    },
    {
     "data": {
      "text/plain": [
       "   Min. 1st Qu.  Median    Mean 3rd Qu.    Max. \n",
       " 0.4502  1.0343  1.3007  2.7470  2.9113 20.3323 "
      ]
     },
     "metadata": {},
     "output_type": "display_data"
    },
    {
     "data": {
      "text/html": [
       "32"
      ],
      "text/latex": [
       "32"
      ],
      "text/markdown": [
       "32"
      ],
      "text/plain": [
       "[1] 32"
      ]
     },
     "metadata": {},
     "output_type": "display_data"
    },
    {
     "data": {
      "text/html": [
       "41"
      ],
      "text/latex": [
       "41"
      ],
      "text/markdown": [
       "41"
      ],
      "text/plain": [
       "[1] 41"
      ]
     },
     "metadata": {},
     "output_type": "display_data"
    },
    {
     "data": {
      "text/html": [
       "0.000215428521187278"
      ],
      "text/latex": [
       "0.000215428521187278"
      ],
      "text/markdown": [
       "0.000215428521187278"
      ],
      "text/plain": [
       "[1] 0.0002154285"
      ]
     },
     "metadata": {},
     "output_type": "display_data"
    },
    {
     "data": {
      "text/plain": [
       "   Min. 1st Qu.  Median    Mean 3rd Qu.    Max. \n",
       " 0.5838  0.9275  0.9849  1.0204  1.1505  1.3676 "
      ]
     },
     "metadata": {},
     "output_type": "display_data"
    },
    {
     "data": {
      "text/html": [
       "16"
      ],
      "text/latex": [
       "16"
      ],
      "text/markdown": [
       "16"
      ],
      "text/plain": [
       "[1] 16"
      ]
     },
     "metadata": {},
     "output_type": "display_data"
    },
    {
     "data": {
      "text/html": [
       "37"
      ],
      "text/latex": [
       "37"
      ],
      "text/markdown": [
       "37"
      ],
      "text/plain": [
       "[1] 37"
      ]
     },
     "metadata": {},
     "output_type": "display_data"
    },
    {
     "data": {
      "text/html": [
       "0.837995699956082"
      ],
      "text/latex": [
       "0.837995699956082"
      ],
      "text/markdown": [
       "0.837995699956082"
      ],
      "text/plain": [
       "[1] 0.8379957"
      ]
     },
     "metadata": {},
     "output_type": "display_data"
    }
   ],
   "source": [
    "#sign test\n",
    "x <- subset(df,data==\"Same\")$rate\n",
    "summary(x)\n",
    "length(x[x>=1])\n",
    "length(x)\n",
    "binom.test(x=length(x[x>=1]),n=length(x),p=0.5,alternative = \"greater\")$p.value\n",
    "\n",
    "x <- subset(df,data==\"Diff\")$rate\n",
    "summary(x)\n",
    "length(x[x>=1])\n",
    "length(x)\n",
    "binom.test(x=length(x[x>=1]),n=length(x),p=0.5,alternative = \"greater\")$p.value\n",
    "\n",
    "x <- subset(df,data==\"Trans\")$rate\n",
    "summary(x)\n",
    "length(x[x>=1])\n",
    "length(x)\n",
    "binom.test(x=length(x[x>=1]),n=length(x),p=0.5,alternative = \"greater\")$p.value"
   ]
  },
  {
   "cell_type": "code",
   "execution_count": null,
   "id": "ea882c2d-1017-46c0-ab01-30991a99b3f9",
   "metadata": {},
   "outputs": [],
   "source": []
  },
  {
   "cell_type": "markdown",
   "id": "d3d0f181-4d20-4b35-9ae0-7a9a0a12df7d",
   "metadata": {},
   "source": [
    "## PRS performances (Figure 6c)"
   ]
  },
  {
   "cell_type": "code",
   "execution_count": 23,
   "id": "049a04ee-99c8-4569-b383-5ebb9b91dbe1",
   "metadata": {},
   "outputs": [
    {
     "data": {
      "text/html": [
       "<table>\n",
       "<thead><tr><th scope=col>id</th><th scope=col>gwasdata</th><th scope=col>type</th><th scope=col>pth</th><th scope=col>r2</th><th scope=col>Pop</th></tr></thead>\n",
       "<tbody>\n",
       "\t<tr><td>ACR_REF   </td><td>EUR       </td><td>impact    </td><td>1e-01     </td><td>0.09849492</td><td>EUR       </td></tr>\n",
       "\t<tr><td>ACR_REF   </td><td>EUR       </td><td>impact    </td><td>3e-02     </td><td>0.08126775</td><td>EUR       </td></tr>\n",
       "</tbody>\n",
       "</table>\n"
      ],
      "text/latex": [
       "\\begin{tabular}{r|llllll}\n",
       " id & gwasdata & type & pth & r2 & Pop\\\\\n",
       "\\hline\n",
       "\t ACR\\_REF  & EUR        & impact     & 1e-01      & 0.09849492 & EUR       \\\\\n",
       "\t ACR\\_REF  & EUR        & impact     & 3e-02      & 0.08126775 & EUR       \\\\\n",
       "\\end{tabular}\n"
      ],
      "text/markdown": [
       "\n",
       "id | gwasdata | type | pth | r2 | Pop | \n",
       "|---|---|\n",
       "| ACR_REF    | EUR        | impact     | 1e-01      | 0.09849492 | EUR        | \n",
       "| ACR_REF    | EUR        | impact     | 3e-02      | 0.08126775 | EUR        | \n",
       "\n",
       "\n"
      ],
      "text/plain": [
       "  id      gwasdata type   pth   r2         Pop\n",
       "1 ACR_REF EUR      impact 1e-01 0.09849492 EUR\n",
       "2 ACR_REF EUR      impact 3e-02 0.08126775 EUR"
      ]
     },
     "metadata": {},
     "output_type": "display_data"
    }
   ],
   "source": [
    "#load data\n",
    "load(\"../data/PRS_allres_Mar2021.RData\")\n",
    "head(out,n=2)"
   ]
  },
  {
   "cell_type": "code",
   "execution_count": 24,
   "id": "be32313b-361a-48a8-9e0a-276c335c453a",
   "metadata": {},
   "outputs": [],
   "source": [
    "color <- c('#E18727FF','#E64B35FF','#4DBBD5FF')"
   ]
  },
  {
   "cell_type": "code",
   "execution_count": 26,
   "id": "e5bd7708-ed40-429f-a336-2509228554db",
   "metadata": {},
   "outputs": [
    {
     "data": {
      "text/html": [
       "111"
      ],
      "text/latex": [
       "111"
      ],
      "text/markdown": [
       "111"
      ],
      "text/plain": [
       "[1] 111"
      ]
     },
     "metadata": {},
     "output_type": "display_data"
    },
    {
     "data": {
      "text/plain": [
       "\n",
       "Trans   EUR   EAS \n",
       "   37    37    37 "
      ]
     },
     "metadata": {},
     "output_type": "display_data"
    },
    {
     "data": {},
     "metadata": {},
     "output_type": "display_data"
    },
    {
     "data": {
      "text/html": [
       "2.91038304567338e-11"
      ],
      "text/latex": [
       "2.91038304567338e-11"
      ],
      "text/markdown": [
       "2.91038304567338e-11"
      ],
      "text/plain": [
       "[1] 2.910383e-11"
      ]
     },
     "metadata": {},
     "output_type": "display_data"
    },
    {
     "data": {
      "text/html": [
       "1.6538251657039e-07"
      ],
      "text/latex": [
       "1.6538251657039e-07"
      ],
      "text/markdown": [
       "1.6538251657039e-07"
      ],
      "text/plain": [
       "[1] 1.653825e-07"
      ]
     },
     "metadata": {},
     "output_type": "display_data"
    },
    {
     "data": {
      "text/plain": [
       "    Min.  1st Qu.   Median     Mean  3rd Qu.     Max. \n",
       "0.008037 0.032814 0.056122 0.054335 0.068083 0.122531 "
      ]
     },
     "metadata": {},
     "output_type": "display_data"
    },
    {
     "data": {
      "text/plain": [
       "    Min.  1st Qu.   Median     Mean  3rd Qu.     Max. \n",
       "0.003817 0.016388 0.042566 0.040589 0.059040 0.085577 "
      ]
     },
     "metadata": {},
     "output_type": "display_data"
    },
    {
     "data": {
      "text/plain": [
       "    Min.  1st Qu.   Median     Mean  3rd Qu.     Max. \n",
       "0.001229 0.007787 0.021947 0.021660 0.027636 0.062430 "
      ]
     },
     "metadata": {},
     "output_type": "display_data"
    },
    {
     "data": {
      "image/png": "[encoded data removed]",
      "text/plain": [
       "plot without title"
      ]
     },
     "metadata": {},
     "output_type": "display_data",
     "source": "R display func"
    }
   ],
   "source": [
    "#plot all population\n",
    "d1 <- subset(out,type==\"impact\")\n",
    "df <- d1\n",
    "\n",
    "#use best p value for each prs condition\n",
    "df2 <- data.frame()\n",
    "for(x in c(\"Trans\",\"EUR\",\"EAS\")){\n",
    "for(y in c(\"impact\",\"noimpact\")){\n",
    "    bestp <- as.character(subset(bestpcond, gwas==x & type==y)$bestp)\n",
    "    z <- subset(df, gwasdata==x  & type==y & pth==bestp)\n",
    "    df2 <- rbind(df2,z)\n",
    "}  \n",
    "}\n",
    "\n",
    "df2$gwasdata <- factor(df2$gwasdata,levels=c(\"Trans\",\"EUR\",\"EAS\"))\n",
    "nrow(df2)\n",
    "table(df2$gwasdata)\n",
    "\n",
    "options(repr.plot.width=3.5, repr.plot.height=5)\n",
    "\n",
    "Max=0.142 #LDSC h2 of EUR\n",
    "\n",
    "df2  %>% ggplot(aes( x = gwasdata, y= r2, fill=gwasdata )) +\n",
    "  geom_boxplot(outlier.shape = NA) +\n",
    "  geom_jitter(width=0.25,size=0.5) +\n",
    "    #geom_line() +\n",
    "  theme_bw() +\n",
    "  scale_y_continuous(limits=c(0,Max)) +\n",
    "  geom_hline(yintercept = Max, linetype=\"dashed\") +\n",
    "  scale_fill_manual(name=\"\",values=color) +\n",
    "  labs(x=\"\", y=\"Liab. R2\", title=\"All 37 cohorts\") +\n",
    "  theme( axis.line = element_line(colour = \"black\"), axis.text=element_text(colour=\"black\") ) +\n",
    "  theme( panel.grid.major = element_blank(), panel.grid.minor = element_blank() ) +\n",
    "  theme( panel.border = element_blank(), panel.background = element_blank() ) +\n",
    "  theme(plot.title = element_text(hjust = 0.5)) +\n",
    "  theme( axis.text.x=element_text(colour=\"black\",size=12)) +\n",
    "  theme( axis.text.y=element_text(colour=\"black\",size=12)) +\n",
    "  theme(legend.position = \"none\") \n",
    "\n",
    "df2 <- df2[order(df2$id,df2$gwasdata),]\n",
    "\n",
    "\n",
    "  #wilcox.test(\n",
    "  #     subset(df2,gwasdata==\"EAS\")$r2,\n",
    "  #     subset(df2,gwasdata==\"EUR\")$r2,paired = T)$p.value\n",
    "\n",
    "#EAS vs Trans\n",
    "wilcox.test(\n",
    "       subset(df2,gwasdata==\"EAS\")$r2,\n",
    "       subset(df2,gwasdata==\"Trans\")$r2,paired = T)$p.value\n",
    "\n",
    "#EUR vs Trans\n",
    "wilcox.test(\n",
    "       subset(df2,gwasdata==\"EUR\")$r2,\n",
    "       subset(df2,gwasdata==\"Trans\")$r2,paired = T)$p.value\n",
    "\n",
    "subset(df2,gwasdata==\"Trans\")$r2 %>% summary()\n",
    "subset(df2,gwasdata==\"EUR\")$r2 %>% summary()\n",
    "subset(df2,gwasdata==\"EAS\")$r2 %>% summary()"
   ]
  },
  {
   "cell_type": "code",
   "execution_count": 27,
   "id": "425e3bbc-2831-43dd-826c-5934557614e5",
   "metadata": {},
   "outputs": [
    {
     "data": {},
     "metadata": {},
     "output_type": "display_data"
    },
    {
     "data": {
      "text/html": [
       "0.665299496778918"
      ],
      "text/latex": [
       "0.665299496778918"
      ],
      "text/markdown": [
       "0.665299496778918"
      ],
      "text/plain": [
       "[1] 0.6652995"
      ]
     },
     "metadata": {},
     "output_type": "display_data"
    },
    {
     "data": {
      "text/html": [
       "0.00227358848048503"
      ],
      "text/latex": [
       "0.00227358848048503"
      ],
      "text/markdown": [
       "0.00227358848048503"
      ],
      "text/plain": [
       "[1] 0.002273588"
      ]
     },
     "metadata": {},
     "output_type": "display_data"
    },
    {
     "data": {
      "text/html": [
       "37"
      ],
      "text/latex": [
       "37"
      ],
      "text/markdown": [
       "37"
      ],
      "text/plain": [
       "[1] 37"
      ]
     },
     "metadata": {},
     "output_type": "display_data"
    },
    {
     "data": {
      "text/plain": [
       "   Min. 1st Qu.  Median    Mean 3rd Qu.    Max. \n",
       "0.01290 0.04054 0.05862 0.05941 0.07905 0.10434 "
      ]
     },
     "metadata": {},
     "output_type": "display_data"
    },
    {
     "data": {
      "text/plain": [
       "   Min. 1st Qu.  Median    Mean 3rd Qu.    Max. \n",
       "0.02854 0.03746 0.04609 0.05663 0.06878 0.12253 "
      ]
     },
     "metadata": {},
     "output_type": "display_data"
    },
    {
     "data": {
      "text/plain": [
       "    Min.  1st Qu.   Median     Mean  3rd Qu.     Max. \n",
       "0.008037 0.012736 0.015593 0.018009 0.020866 0.032814 "
      ]
     },
     "metadata": {},
     "output_type": "display_data"
    },
    {
     "data": {
      "image/png": "[encoded data removed]",
      "text/plain": [
       "plot without title"
      ]
     },
     "metadata": {},
     "output_type": "display_data",
     "source": "R display func"
    }
   ],
   "source": [
    "#Plot all with Trans + impact\n",
    "d1 <- subset(out,type==\"impact\" & gwasdata==\"Trans\")\n",
    "df <- subset(d1,pth==\"3e-03\") #use best p value for this prs condition\n",
    "\n",
    "df$Pop2 <- sapply(df$Pop,function(x){\n",
    "    if(x==\"EUR\"|x==\"EAS\"){x=x}else{x=\"Others\"}\n",
    "    return(x)\n",
    "})\n",
    "df$Pop2 <- factor(df$Pop2,levels=c(\"EUR\",\"EAS\",\"Others\"))\n",
    "\n",
    "options(repr.plot.width=3.5, repr.plot.height=5)\n",
    "\n",
    "Max=0.142 #LDSC h2 of EUR\n",
    "\n",
    "df  %>% ggplot(aes( x = Pop2, y= r2)) + #fill=Pop2 \n",
    "  geom_boxplot(outlier.shape = NA, fill=color[1]) +\n",
    "  geom_jitter(width=0.25,size=0.5) +\n",
    "    #geom_line() +\n",
    "  theme_bw() +\n",
    "  scale_y_continuous(limits=c(0,Max)) +\n",
    "  geom_hline(yintercept = Max, linetype=\"dashed\") +\n",
    "  #scale_fill_npg(name=\"\") +\n",
    "  labs(x=\"\", y=\"Liab. R2\", title=\"Trans+impact\") +\n",
    "  theme( axis.line = element_line(colour = \"black\"), axis.text=element_text(colour=\"black\") ) +\n",
    "  theme( panel.grid.major = element_blank(), panel.grid.minor = element_blank() ) +\n",
    "  theme( panel.border = element_blank(), panel.background = element_blank() ) +\n",
    "  theme(plot.title = element_text(hjust = 0.5)) +\n",
    "  theme( axis.text.x=element_text(colour=\"black\",size=12)) +\n",
    "  theme( axis.text.y=element_text(colour=\"black\",size=12)) +\n",
    "  theme(legend.position = \"none\") \n",
    "\n",
    "\n",
    "df <- df[order(df$id,df$gwasdata),]\n",
    "\n",
    "#EAS vs EUR\n",
    "wilcox.test(\n",
    "       subset(df,Pop2==\"EAS\")$r2,\n",
    "       subset(df,Pop2==\"EUR\")$r2)$p.value\n",
    "\n",
    "#Others vs EUR\n",
    "wilcox.test(\n",
    "       subset(df,Pop2==\"Others\")$r2,\n",
    "       subset(df,Pop2==\"EUR\")$r2)$p.value\n",
    "\n",
    "nrow(df)\n",
    "\n",
    "subset(df,Pop2==\"EUR\")$r2 %>% summary()\n",
    "subset(df,Pop2==\"EAS\")$r2 %>% summary()\n",
    "subset(df,Pop2==\"Others\")$r2 %>% summary()"
   ]
  },
  {
   "cell_type": "code",
   "execution_count": null,
   "id": "898c79bb-1815-4ebc-b85e-b652410a0936",
   "metadata": {},
   "outputs": [],
   "source": []
  },
  {
   "cell_type": "code",
   "execution_count": null,
   "id": "1c96686c-5cc6-478f-8171-6f3a2fdee68b",
   "metadata": {},
   "outputs": [],
   "source": []
  }
 ],
 "metadata": {
  "kernelspec": {
   "display_name": "R 3.4.3",
   "language": "R",
   "name": "ir343"
  },
  "language_info": {
   "codemirror_mode": "r",
   "file_extension": ".r",
   "mimetype": "text/x-r-source",
   "name": "R",
   "pygments_lexer": "r",
   "version": "3.4.3"
  }
 },
 "nbformat": 4,
 "nbformat_minor": 5
}
